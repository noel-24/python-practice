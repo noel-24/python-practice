{
  "nbformat": 4,
  "nbformat_minor": 0,
  "metadata": {
    "colab": {
      "provenance": [],
      "authorship_tag": "ABX9TyO3NWPhKi73izvmrejXSkTg"
    },
    "kernelspec": {
      "name": "python3",
      "display_name": "Python 3"
    },
    "language_info": {
      "name": "python"
    }
  },
  "cells": [
    {
      "cell_type": "markdown",
      "source": [
        "今日の天気をprint"
      ],
      "metadata": {
        "id": "uDq85WfNUgYo"
      }
    },
    {
      "cell_type": "code",
      "execution_count": 5,
      "metadata": {
        "colab": {
          "base_uri": "https://localhost:8080/",
          "height": 35
        },
        "id": "TTkpwW_l90O6",
        "outputId": "e1b23ffd-e03a-4335-c693-1c40e2250b5a"
      },
      "outputs": [
        {
          "output_type": "execute_result",
          "data": {
            "text/plain": [
              "'晴一時雨'"
            ],
            "application/vnd.google.colaboratory.intrinsic+json": {
              "type": "string"
            }
          },
          "metadata": {},
          "execution_count": 5
        }
      ],
      "source": [
        "import requests\n",
        "from bs4 import BeautifulSoup\n",
        "\n",
        "def get_weather():\n",
        "    url = \"https://tenki.jp/forecast/3/17/4610/14103/\"\n",
        "    try:\n",
        "        response = requests.get(url)\n",
        "        response.raise_for_status()  # HTTPステータスコードを確認：200が成功\n",
        "        response.encoding = response.apparent_encoding #文字化けしないようエンコード\n",
        "\n",
        "        soup = BeautifulSoup(response.content, \"html.parser\")\n",
        "\n",
        "        weather_element = soup.find(\"p\", class_=\"weather-telop\")  # クラスで選択\n",
        "\n",
        "        if weather_element:\n",
        "            today_weather = weather_element.text.strip()\n",
        "            return today_weather\n",
        "        else:\n",
        "            return \"Could not find weather information.\"\n",
        "\n",
        "    except requests.exceptions.RequestException as e:\n",
        "        return f\"Error fetching weather data: {e}\"\n",
        "\n",
        "if __name__ == \"__main__\":\n",
        "    weather = get_weather()\n",
        "\n",
        "weather\n"
      ]
    },
    {
      "cell_type": "markdown",
      "source": [
        "10日間天気をcsv出力"
      ],
      "metadata": {
        "id": "vuTrUy-7UmMG"
      }
    },
    {
      "cell_type": "code",
      "source": [
        "import requests\n",
        "from bs4 import BeautifulSoup\n",
        "import pandas as pd\n",
        "\n",
        "def get_weather_forecast():\n",
        "    url = \"https://tenki.jp/forecast/3/17/4610/14103/\"\n",
        "    try:\n",
        "        response = requests.get(url)\n",
        "        response.raise_for_status()\n",
        "        response.encoding = response.apparent_encoding\n",
        "\n",
        "        soup = BeautifulSoup(response.content, \"html.parser\")\n",
        "\n",
        "        forecast_table = soup.find(\"table\", class_=\"forecast-point-week forecast-days-long\")\n",
        "\n",
        "        forecast_data = {\"日付\": [], \"天気\": [], \"最高気温\": [], \"最低気温\":[],}\n",
        "\n",
        "        if forecast_table:\n",
        "            rows = forecast_table.find_all(\"tr\")\n",
        "\n",
        "            # 日付行データを格納\n",
        "            date_row = rows[0]\n",
        "            tds = date_row.find_all(\"td\")\n",
        "            for td in tds:\n",
        "              date = td.find(\"p\", class_=\"date-box\").get_text(strip=True)\n",
        "              forecast_data[\"日付\"].append(date)\n",
        "\n",
        "            # 天気行データを格納\n",
        "            date_row = rows[1]\n",
        "            tds = date_row.find_all(\"td\")\n",
        "            for td in tds:\n",
        "              weather = td.find(\"p\").get_text(strip=True)\n",
        "              forecast_data[\"天気\"].append(weather)\n",
        "\n",
        "            # 気温行データを格納\n",
        "            date_row = rows[2]\n",
        "            tds = date_row.find_all(\"td\")\n",
        "            for td in tds:\n",
        "              high_temp = td.find(\"p\", class_=\"high-temp\").get_text(strip=True)\n",
        "              low_temp = td.find(\"p\", class_=\"low-temp\").get_text(strip=True)\n",
        "              forecast_data[\"最高気温\"].append(high_temp)\n",
        "              forecast_data[\"最低気温\"].append(low_temp)\n",
        "\n",
        "            return forecast_data\n",
        "        else:\n",
        "            return \"Could not find weather forecast table.\"\n",
        "\n",
        "    except requests.exceptions.RequestException as e:\n",
        "        return f\"Error fetching weather data: {e}\"\n",
        "\n",
        "forecast = get_weather_forecast()\n",
        "df = pd.DataFrame(forecast)\n",
        "# print(df.to_string(index=False))\n",
        "df.to_csv(\"forecast.csv\", index=False, encoding=\"utf-8-sig\")"
      ],
      "metadata": {
        "id": "68QslTnXUWIh"
      },
      "execution_count": 23,
      "outputs": []
    }
  ]
}